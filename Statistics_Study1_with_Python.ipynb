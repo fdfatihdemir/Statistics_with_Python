{
 "cells": [
  {
   "cell_type": "code",
   "execution_count": 4,
   "id": "709b6d2d-32bc-4cb7-8bce-ba26a97e0233",
   "metadata": {},
   "outputs": [],
   "source": [
    "import pandas as pd\n",
    "import numpy as np\n",
    "import seaborn as sns\n",
    "import scipy as sp\n",
    "from scipy import stats\n",
    "import math\n",
    "import matplotlib.pyplot as plt\n",
    "import warnings\n",
    "warnings.filterwarnings(\"ignore\")"
   ]
  },
  {
   "cell_type": "markdown",
   "id": "0e573542-90b2-431f-8de1-06e714f2bfca",
   "metadata": {},
   "source": [
    "**EXERCISE 1.** The hourly wages in a particular industry are normally distributed with mean $13.20 and standard deviation $2.50. A company in this industry employs 40 workers, paying them an average of $12.20 per hour. Can this company be accused of paying substandard wages? Use an α = .01 level test. (Wackerly, Ex.10.18)"
   ]
  },
  {
   "cell_type": "code",
   "execution_count": null,
   "id": "9a3eb567-64f2-42fa-a2d9-b17992fd3d1a",
   "metadata": {},
   "outputs": [],
   "source": []
  },
  {
   "cell_type": "code",
   "execution_count": null,
   "id": "4482e020-b8eb-4b7b-a7b9-65c033acdbae",
   "metadata": {},
   "outputs": [],
   "source": [
    "H0= 13.20\n",
    "\n",
    "H1<13.20"
   ]
  },
  {
   "cell_type": "code",
   "execution_count": 6,
   "id": "092ce7ba-363b-4950-ba2b-b26a15754561",
   "metadata": {},
   "outputs": [],
   "source": [
    "n= 40 \n",
    "sigma= 2.50\n",
    "mu= 13.20\n",
    "xbar= 12.20\n",
    "α = 0.01"
   ]
  },
  {
   "cell_type": "code",
   "execution_count": 8,
   "id": "c499bb58-fb37-4bef-a626-69b06de98159",
   "metadata": {},
   "outputs": [
    {
     "data": {
      "text/plain": [
       "-2.5298221281347035"
      ]
     },
     "execution_count": 8,
     "metadata": {},
     "output_type": "execute_result"
    }
   ],
   "source": [
    "z_test= (xbar-mu)/(sigma/np.sqrt(n))\n",
    "z_test"
   ]
  },
  {
   "cell_type": "code",
   "execution_count": 9,
   "id": "f80d71fd-8150-4fb6-a774-b4d60bd509a1",
   "metadata": {},
   "outputs": [
    {
     "name": "stdout",
     "output_type": "stream",
     "text": [
      "Reject the Null\n"
     ]
    }
   ],
   "source": [
    "#z tablosundan 0.01 kritik değere baktığımızda Zα=-2,33 bulunur.\n",
    "#z_test= -2,52 ve\n",
    "Zα=-2.33 #ise\n",
    "\n",
    "\n",
    "if z_test < Zα:\n",
    "    print(\"Reject the Null\")\n",
    "else:\n",
    "    print(\"Fail to reject Null\")"
   ]
  },
  {
   "cell_type": "code",
   "execution_count": null,
   "id": "b5654060-3515-41f0-99a9-d5fcfb2eea10",
   "metadata": {},
   "outputs": [],
   "source": [
    "# H0 hipotezimizi reddediyoruz. "
   ]
  },
  {
   "cell_type": "markdown",
   "id": "a8e89ee3-abb1-4b99-84f3-8d744dac1fa9",
   "metadata": {},
   "source": [
    "#### p-value kullanarak Hipotez testi yaparsak;"
   ]
  },
  {
   "cell_type": "code",
   "execution_count": 10,
   "id": "e6754704-e2b2-4134-a7ba-8f1245de4fcd",
   "metadata": {},
   "outputs": [
    {
     "data": {
      "text/plain": [
       "0.005706018193000826"
      ]
     },
     "execution_count": 10,
     "metadata": {},
     "output_type": "execute_result"
    }
   ],
   "source": [
    "# z_test sonucumuzu formül yardmıyla bulmuştuk. \n",
    "# kümülatif dağılım fonksiyonu bize sol alan olasılığını veriyor. \n",
    "p_value = stats.norm.cdf(z_test) \n",
    "p_value"
   ]
  },
  {
   "cell_type": "code",
   "execution_count": 11,
   "id": "c683cfae-6638-4e5c-aeff-a53d0b81cee2",
   "metadata": {},
   "outputs": [
    {
     "name": "stdout",
     "output_type": "stream",
     "text": [
      "Reject the Null\n"
     ]
    }
   ],
   "source": [
    "# p_value ve α karşılaştırması yaparsak;\n",
    "α = 0.01 \n",
    "if p_value < α :\n",
    "    print(\"Reject the Null\")\n",
    "else:\n",
    "    print(\"Fail to Reject\")"
   ]
  },
  {
   "cell_type": "code",
   "execution_count": null,
   "id": "27cf90ec-b939-4623-a3a3-155f20eb6d4e",
   "metadata": {},
   "outputs": [],
   "source": [
    "# sonuç olarak yine H= hipotezimizi reddedebiliriz. \n",
    "# Böylece bu şirket tarafından ödenen maaş ortalamaya eşit olmadığı için,  \n",
    "# standartların altında ücret ödemekle suçlanabilir hipotezini reddedemeyiz. "
   ]
  },
  {
   "cell_type": "code",
   "execution_count": null,
   "id": "7de152a1-b646-48f7-8191-22b5b227ff9d",
   "metadata": {},
   "outputs": [],
   "source": []
  },
  {
   "cell_type": "markdown",
   "id": "5f589702-69eb-48a4-8003-0f759c4b8217",
   "metadata": {},
   "source": [
    "**EXERCISE 2.** Shear strength measurements derived from unconfined compression tests for two types of soils gave the results shown in the following document (measurements in tons per square foot). Do the soils appear to differ with respect to average shear strength, at the 1% significance level?"
   ]
  },
  {
   "cell_type": "code",
   "execution_count": null,
   "id": "dd100cac-27e6-4568-b5f2-493466f4afd8",
   "metadata": {},
   "outputs": [],
   "source": [
    "# H0 anlamlı bir fark yoktur, H1 anlamlı bir fark vardır olarak belirlendiği için two tail olacak .\n",
    "# yani α değerimizi α/2 olarak kullanacağız.\n",
    "# sigma değerini bilmediğimiz için t testi yapacğız.\n",
    "# iki tane örneklem olduğu için two sample t-test yapacağız.\n",
    "# H0= iki grup arasındaki populasyon ortalamaları arasında anlamlı bir fark yoktur. (H0: μA = μB) \n",
    "# H1 = iki grup arasında anlamlı bir fark vardır. (H0: μA != μB) \n",
    "# Sonuç olarak : \"independent Two-sample t_test\" uygulayacağız."
   ]
  },
  {
   "cell_type": "code",
   "execution_count": 40,
   "id": "94f1dc59-9f60-4bc3-90af-1f908af04070",
   "metadata": {},
   "outputs": [],
   "source": [
    "# H0 : mu1 = mu2\n",
    "# H1 : mu1 != mu2\n",
    "# α = 0.01      \n",
    "#α /2 = 0.005"
   ]
  },
  {
   "cell_type": "code",
   "execution_count": 31,
   "id": "8f93537a-9926-4370-8812-9b8ff5bcd91f",
   "metadata": {},
   "outputs": [
    {
     "data": {
      "text/html": [
       "<div>\n",
       "<style scoped>\n",
       "    .dataframe tbody tr th:only-of-type {\n",
       "        vertical-align: middle;\n",
       "    }\n",
       "\n",
       "    .dataframe tbody tr th {\n",
       "        vertical-align: top;\n",
       "    }\n",
       "\n",
       "    .dataframe thead th {\n",
       "        text-align: right;\n",
       "    }\n",
       "</style>\n",
       "<table border=\"1\" class=\"dataframe\">\n",
       "  <thead>\n",
       "    <tr style=\"text-align: right;\">\n",
       "      <th></th>\n",
       "      <th>Soil1</th>\n",
       "      <th>Soil2</th>\n",
       "    </tr>\n",
       "  </thead>\n",
       "  <tbody>\n",
       "    <tr>\n",
       "      <th>0</th>\n",
       "      <td>1.442</td>\n",
       "      <td>1.364</td>\n",
       "    </tr>\n",
       "    <tr>\n",
       "      <th>1</th>\n",
       "      <td>1.943</td>\n",
       "      <td>1.878</td>\n",
       "    </tr>\n",
       "    <tr>\n",
       "      <th>2</th>\n",
       "      <td>1.110</td>\n",
       "      <td>1.337</td>\n",
       "    </tr>\n",
       "    <tr>\n",
       "      <th>3</th>\n",
       "      <td>1.912</td>\n",
       "      <td>1.828</td>\n",
       "    </tr>\n",
       "    <tr>\n",
       "      <th>4</th>\n",
       "      <td>1.553</td>\n",
       "      <td>1.371</td>\n",
       "    </tr>\n",
       "    <tr>\n",
       "      <th>5</th>\n",
       "      <td>1.641</td>\n",
       "      <td>1.428</td>\n",
       "    </tr>\n",
       "    <tr>\n",
       "      <th>6</th>\n",
       "      <td>1.499</td>\n",
       "      <td>1.119</td>\n",
       "    </tr>\n",
       "    <tr>\n",
       "      <th>7</th>\n",
       "      <td>1.347</td>\n",
       "      <td>1.373</td>\n",
       "    </tr>\n",
       "    <tr>\n",
       "      <th>8</th>\n",
       "      <td>1.685</td>\n",
       "      <td>1.589</td>\n",
       "    </tr>\n",
       "    <tr>\n",
       "      <th>9</th>\n",
       "      <td>1.578</td>\n",
       "      <td>1.714</td>\n",
       "    </tr>\n",
       "    <tr>\n",
       "      <th>10</th>\n",
       "      <td>1.866</td>\n",
       "      <td>1.260</td>\n",
       "    </tr>\n",
       "    <tr>\n",
       "      <th>11</th>\n",
       "      <td>1.653</td>\n",
       "      <td>1.492</td>\n",
       "    </tr>\n",
       "    <tr>\n",
       "      <th>12</th>\n",
       "      <td>1.665</td>\n",
       "      <td>1.395</td>\n",
       "    </tr>\n",
       "    <tr>\n",
       "      <th>13</th>\n",
       "      <td>1.640</td>\n",
       "      <td>1.778</td>\n",
       "    </tr>\n",
       "    <tr>\n",
       "      <th>14</th>\n",
       "      <td>1.976</td>\n",
       "      <td>1.611</td>\n",
       "    </tr>\n",
       "    <tr>\n",
       "      <th>15</th>\n",
       "      <td>1.754</td>\n",
       "      <td>1.202</td>\n",
       "    </tr>\n",
       "    <tr>\n",
       "      <th>16</th>\n",
       "      <td>1.589</td>\n",
       "      <td>1.542</td>\n",
       "    </tr>\n",
       "    <tr>\n",
       "      <th>17</th>\n",
       "      <td>1.976</td>\n",
       "      <td>1.094</td>\n",
       "    </tr>\n",
       "    <tr>\n",
       "      <th>18</th>\n",
       "      <td>1.863</td>\n",
       "      <td>1.557</td>\n",
       "    </tr>\n",
       "    <tr>\n",
       "      <th>19</th>\n",
       "      <td>1.932</td>\n",
       "      <td>1.053</td>\n",
       "    </tr>\n",
       "    <tr>\n",
       "      <th>20</th>\n",
       "      <td>1.570</td>\n",
       "      <td>1.183</td>\n",
       "    </tr>\n",
       "    <tr>\n",
       "      <th>21</th>\n",
       "      <td>1.613</td>\n",
       "      <td>1.367</td>\n",
       "    </tr>\n",
       "    <tr>\n",
       "      <th>22</th>\n",
       "      <td>2.054</td>\n",
       "      <td>1.144</td>\n",
       "    </tr>\n",
       "    <tr>\n",
       "      <th>23</th>\n",
       "      <td>1.550</td>\n",
       "      <td>1.151</td>\n",
       "    </tr>\n",
       "    <tr>\n",
       "      <th>24</th>\n",
       "      <td>1.714</td>\n",
       "      <td>1.561</td>\n",
       "    </tr>\n",
       "    <tr>\n",
       "      <th>25</th>\n",
       "      <td>1.896</td>\n",
       "      <td>1.192</td>\n",
       "    </tr>\n",
       "    <tr>\n",
       "      <th>26</th>\n",
       "      <td>1.737</td>\n",
       "      <td>1.489</td>\n",
       "    </tr>\n",
       "    <tr>\n",
       "      <th>27</th>\n",
       "      <td>1.740</td>\n",
       "      <td>1.379</td>\n",
       "    </tr>\n",
       "    <tr>\n",
       "      <th>28</th>\n",
       "      <td>1.708</td>\n",
       "      <td>1.501</td>\n",
       "    </tr>\n",
       "    <tr>\n",
       "      <th>29</th>\n",
       "      <td>1.548</td>\n",
       "      <td>1.277</td>\n",
       "    </tr>\n",
       "    <tr>\n",
       "      <th>30</th>\n",
       "      <td>NaN</td>\n",
       "      <td>1.593</td>\n",
       "    </tr>\n",
       "    <tr>\n",
       "      <th>31</th>\n",
       "      <td>NaN</td>\n",
       "      <td>1.172</td>\n",
       "    </tr>\n",
       "    <tr>\n",
       "      <th>32</th>\n",
       "      <td>NaN</td>\n",
       "      <td>1.510</td>\n",
       "    </tr>\n",
       "    <tr>\n",
       "      <th>33</th>\n",
       "      <td>NaN</td>\n",
       "      <td>1.740</td>\n",
       "    </tr>\n",
       "    <tr>\n",
       "      <th>34</th>\n",
       "      <td>NaN</td>\n",
       "      <td>1.355</td>\n",
       "    </tr>\n",
       "  </tbody>\n",
       "</table>\n",
       "</div>"
      ],
      "text/plain": [
       "    Soil1  Soil2\n",
       "0   1.442  1.364\n",
       "1   1.943  1.878\n",
       "2   1.110  1.337\n",
       "3   1.912  1.828\n",
       "4   1.553  1.371\n",
       "5   1.641  1.428\n",
       "6   1.499  1.119\n",
       "7   1.347  1.373\n",
       "8   1.685  1.589\n",
       "9   1.578  1.714\n",
       "10  1.866  1.260\n",
       "11  1.653  1.492\n",
       "12  1.665  1.395\n",
       "13  1.640  1.778\n",
       "14  1.976  1.611\n",
       "15  1.754  1.202\n",
       "16  1.589  1.542\n",
       "17  1.976  1.094\n",
       "18  1.863  1.557\n",
       "19  1.932  1.053\n",
       "20  1.570  1.183\n",
       "21  1.613  1.367\n",
       "22  2.054  1.144\n",
       "23  1.550  1.151\n",
       "24  1.714  1.561\n",
       "25  1.896  1.192\n",
       "26  1.737  1.489\n",
       "27  1.740  1.379\n",
       "28  1.708  1.501\n",
       "29  1.548  1.277\n",
       "30    NaN  1.593\n",
       "31    NaN  1.172\n",
       "32    NaN  1.510\n",
       "33    NaN  1.740\n",
       "34    NaN  1.355"
      ]
     },
     "execution_count": 31,
     "metadata": {},
     "output_type": "execute_result"
    }
   ],
   "source": [
    "dfsoil = pd.read_csv(\"soil - Sheet1.csv\", sep = \",\")\n",
    "dfsoil"
   ]
  },
  {
   "cell_type": "code",
   "execution_count": 41,
   "id": "98b14d3c-ffdc-4af6-a487-6c45ae33cf6c",
   "metadata": {},
   "outputs": [
    {
     "data": {
      "text/plain": [
       "(35, 2)"
      ]
     },
     "execution_count": 41,
     "metadata": {},
     "output_type": "execute_result"
    }
   ],
   "source": [
    "dfsoil.shape"
   ]
  },
  {
   "cell_type": "code",
   "execution_count": 42,
   "id": "fbc2f464-b5a2-402a-a1aa-20021f3abab6",
   "metadata": {},
   "outputs": [
    {
     "name": "stdout",
     "output_type": "stream",
     "text": [
      "<class 'pandas.core.frame.DataFrame'>\n",
      "RangeIndex: 35 entries, 0 to 34\n",
      "Data columns (total 2 columns):\n",
      " #   Column  Non-Null Count  Dtype  \n",
      "---  ------  --------------  -----  \n",
      " 0   Soil1   30 non-null     float64\n",
      " 1   Soil2   35 non-null     float64\n",
      "dtypes: float64(2)\n",
      "memory usage: 688.0 bytes\n"
     ]
    }
   ],
   "source": [
    "dfsoil.info()"
   ]
  },
  {
   "cell_type": "code",
   "execution_count": 43,
   "id": "42b5b37e-3f4f-4e17-8d86-464334a1cfa7",
   "metadata": {},
   "outputs": [
    {
     "data": {
      "text/plain": [
       "Soil1  Soil2\n",
       "False  False    30\n",
       "True   False     5\n",
       "dtype: int64"
      ]
     },
     "execution_count": 43,
     "metadata": {},
     "output_type": "execute_result"
    }
   ],
   "source": [
    "dfsoil.isnull().value_counts()"
   ]
  },
  {
   "cell_type": "code",
   "execution_count": 44,
   "id": "f60593f6-bc35-48f8-b869-77834b31444b",
   "metadata": {},
   "outputs": [
    {
     "data": {
      "text/plain": [
       "Ttest_indResult(statistic=5.1681473319343345, pvalue=2.5932287323528147e-06)"
      ]
     },
     "execution_count": 44,
     "metadata": {},
     "output_type": "execute_result"
    }
   ],
   "source": [
    "#Soil1 sütununda NaN değerleri var onları onları görmezden gelmemiz için,\n",
    "#  yada dropna ile silmemiz lazım, dropna ile silersek NaN olmayan yandaki diğer satırlarıda silmiş oluruz.\n",
    "# burada silmeden NaN değerlerini görmezden gelmek için  \"ttest_ind()\" fonksiyonundaki nan_policy='omit' parametresini kullanacağız.\n",
    "# ttest_ind() fonksiyonu bize  the Independent Two-sample test te ortalama için istatistik bilgilerini verecek.\n",
    "indTest = stats.ttest_ind(dfsoil[\"Soil1\"], dfsoil[\"Soil2\"], nan_policy='omit')\n",
    "indTest"
   ]
  },
  {
   "cell_type": "code",
   "execution_count": null,
   "id": "beb9b493-32b6-449a-b6fa-a8fee86f0fbc",
   "metadata": {},
   "outputs": [],
   "source": [
    "# farklı olarak\n",
    "#indTest2 = stats.ttest_ind(dfsoil.dropna()[\"Soil1\"], dfsoil[\"Soil2\"])\n",
    "\n",
    "# indTest2\n",
    "\n",
    "# bu yöntemide kullanarak sadece Soil1 deki NaN ları silip aynı sonuca ulaşabiliriz."
   ]
  },
  {
   "cell_type": "code",
   "execution_count": 46,
   "id": "e0309d1a-0f93-4047-b67b-a121685118f5",
   "metadata": {},
   "outputs": [
    {
     "name": "stdout",
     "output_type": "stream",
     "text": [
      "Reject the Null\n"
     ]
    }
   ],
   "source": [
    "p_value = 2.5932287323528147e-06\n",
    "α = 0.01 #α /2 = 0.005\n",
    "\n",
    "if p_value < α/2:\n",
    "    print(\"Reject the Null\")\n",
    "else:\n",
    "    print(\"Fail to reject\")\n",
    "\n"
   ]
  },
  {
   "cell_type": "code",
   "execution_count": null,
   "id": "2010673b-0792-4ac4-9003-f629bd975282",
   "metadata": {},
   "outputs": [],
   "source": [
    "# H0 hipotezimizi reddediyoruz. "
   ]
  },
  {
   "cell_type": "code",
   "execution_count": null,
   "id": "bc7a6457-c6b6-4b7b-9f79-d42d525e5e18",
   "metadata": {},
   "outputs": [],
   "source": []
  },
  {
   "cell_type": "markdown",
   "id": "79cf519c-fae0-4d35-8a9f-b933eaf0c85e",
   "metadata": {},
   "source": [
    "**EXERCISE 3.** The following dataset is based on data provided by the World Bank (https://datacatalog.worldbank.org/dataset/education-statistics). World Bank Edstats.\n",
    "\n",
    "**1.** Get descriptive statistics (the central tendency, dispersion and shape of a dataset’s distribution) for each continent group (AS, EU, AF, NA, SA, OC).\n",
    "\n",
    "**2.** Determine whether there is any difference (on the average) for the math scores among European (EU) and Asian (AS) countries (assume normality and equal variances). Draw side-by-side box plots."
   ]
  },
  {
   "cell_type": "markdown",
   "id": "663c925d-4386-44de-86e7-4dfab7880c4c",
   "metadata": {},
   "source": [
    "**1. Kısmın Çözümü**"
   ]
  },
  {
   "cell_type": "code",
   "execution_count": 47,
   "id": "1544c49c-c54f-49a2-8646-765ac266cc0c",
   "metadata": {},
   "outputs": [
    {
     "data": {
      "text/html": [
       "<div>\n",
       "<style scoped>\n",
       "    .dataframe tbody tr th:only-of-type {\n",
       "        vertical-align: middle;\n",
       "    }\n",
       "\n",
       "    .dataframe tbody tr th {\n",
       "        vertical-align: top;\n",
       "    }\n",
       "\n",
       "    .dataframe thead th {\n",
       "        text-align: right;\n",
       "    }\n",
       "</style>\n",
       "<table border=\"1\" class=\"dataframe\">\n",
       "  <thead>\n",
       "    <tr style=\"text-align: right;\">\n",
       "      <th></th>\n",
       "      <th>Country Code</th>\n",
       "      <th>Continent_Code</th>\n",
       "      <th>internet_users_per_100</th>\n",
       "      <th>Math</th>\n",
       "      <th>Reading</th>\n",
       "      <th>Science</th>\n",
       "    </tr>\n",
       "  </thead>\n",
       "  <tbody>\n",
       "    <tr>\n",
       "      <th>0</th>\n",
       "      <td>ALB</td>\n",
       "      <td>EU</td>\n",
       "      <td>63.252933</td>\n",
       "      <td>413.1570</td>\n",
       "      <td>405.2588</td>\n",
       "      <td>427.2250</td>\n",
       "    </tr>\n",
       "    <tr>\n",
       "      <th>1</th>\n",
       "      <td>ARE</td>\n",
       "      <td>AS</td>\n",
       "      <td>90.500000</td>\n",
       "      <td>427.4827</td>\n",
       "      <td>433.5423</td>\n",
       "      <td>436.7311</td>\n",
       "    </tr>\n",
       "    <tr>\n",
       "      <th>2</th>\n",
       "      <td>ARG</td>\n",
       "      <td>SA</td>\n",
       "      <td>68.043064</td>\n",
       "      <td>409.0333</td>\n",
       "      <td>425.3031</td>\n",
       "      <td>432.2262</td>\n",
       "    </tr>\n",
       "    <tr>\n",
       "      <th>3</th>\n",
       "      <td>AUS</td>\n",
       "      <td>OC</td>\n",
       "      <td>84.560519</td>\n",
       "      <td>493.8962</td>\n",
       "      <td>502.9006</td>\n",
       "      <td>509.9939</td>\n",
       "    </tr>\n",
       "    <tr>\n",
       "      <th>4</th>\n",
       "      <td>AUT</td>\n",
       "      <td>EU</td>\n",
       "      <td>83.940142</td>\n",
       "      <td>496.7423</td>\n",
       "      <td>484.8656</td>\n",
       "      <td>495.0375</td>\n",
       "    </tr>\n",
       "  </tbody>\n",
       "</table>\n",
       "</div>"
      ],
      "text/plain": [
       "  Country Code Continent_Code  internet_users_per_100      Math   Reading  \\\n",
       "0          ALB             EU               63.252933  413.1570  405.2588   \n",
       "1          ARE             AS               90.500000  427.4827  433.5423   \n",
       "2          ARG             SA               68.043064  409.0333  425.3031   \n",
       "3          AUS             OC               84.560519  493.8962  502.9006   \n",
       "4          AUT             EU               83.940142  496.7423  484.8656   \n",
       "\n",
       "    Science  \n",
       "0  427.2250  \n",
       "1  436.7311  \n",
       "2  432.2262  \n",
       "3  509.9939  \n",
       "4  495.0375  "
      ]
     },
     "execution_count": 47,
     "metadata": {},
     "output_type": "execute_result"
    }
   ],
   "source": [
    "dfpisa = pd.read_csv(\"2015 PISA Test - Sheet1.csv\", sep = \",\")\n",
    "\n",
    "dfpisa.head()"
   ]
  },
  {
   "cell_type": "code",
   "execution_count": 48,
   "id": "c2b9bb14-8536-49f1-843e-56d3c9c2004b",
   "metadata": {},
   "outputs": [
    {
     "data": {
      "text/html": [
       "<div>\n",
       "<style scoped>\n",
       "    .dataframe tbody tr th:only-of-type {\n",
       "        vertical-align: middle;\n",
       "    }\n",
       "\n",
       "    .dataframe tbody tr th {\n",
       "        vertical-align: top;\n",
       "    }\n",
       "\n",
       "    .dataframe thead th {\n",
       "        text-align: right;\n",
       "    }\n",
       "</style>\n",
       "<table border=\"1\" class=\"dataframe\">\n",
       "  <thead>\n",
       "    <tr style=\"text-align: right;\">\n",
       "      <th></th>\n",
       "      <th>Country Code</th>\n",
       "      <th>Continent_Code</th>\n",
       "      <th>internet_users_per_100</th>\n",
       "      <th>Math</th>\n",
       "      <th>Reading</th>\n",
       "      <th>Science</th>\n",
       "    </tr>\n",
       "  </thead>\n",
       "  <tbody>\n",
       "    <tr>\n",
       "      <th>64</th>\n",
       "      <td>TTO</td>\n",
       "      <td>SA</td>\n",
       "      <td>69.198471</td>\n",
       "      <td>417.2434</td>\n",
       "      <td>427.2733</td>\n",
       "      <td>424.5905</td>\n",
       "    </tr>\n",
       "    <tr>\n",
       "      <th>4</th>\n",
       "      <td>AUT</td>\n",
       "      <td>EU</td>\n",
       "      <td>83.940142</td>\n",
       "      <td>496.7423</td>\n",
       "      <td>484.8656</td>\n",
       "      <td>495.0375</td>\n",
       "    </tr>\n",
       "    <tr>\n",
       "      <th>10</th>\n",
       "      <td>CHL</td>\n",
       "      <td>SA</td>\n",
       "      <td>64.289000</td>\n",
       "      <td>422.6714</td>\n",
       "      <td>458.5709</td>\n",
       "      <td>446.9561</td>\n",
       "    </tr>\n",
       "    <tr>\n",
       "      <th>19</th>\n",
       "      <td>DZA</td>\n",
       "      <td>AF</td>\n",
       "      <td>38.200000</td>\n",
       "      <td>359.6062</td>\n",
       "      <td>349.8593</td>\n",
       "      <td>375.7451</td>\n",
       "    </tr>\n",
       "    <tr>\n",
       "      <th>65</th>\n",
       "      <td>TUN</td>\n",
       "      <td>AF</td>\n",
       "      <td>48.519836</td>\n",
       "      <td>366.8180</td>\n",
       "      <td>361.0555</td>\n",
       "      <td>386.4034</td>\n",
       "    </tr>\n",
       "    <tr>\n",
       "      <th>48</th>\n",
       "      <td>MNE</td>\n",
       "      <td>EU</td>\n",
       "      <td>68.119581</td>\n",
       "      <td>417.9341</td>\n",
       "      <td>426.8845</td>\n",
       "      <td>411.3136</td>\n",
       "    </tr>\n",
       "    <tr>\n",
       "      <th>67</th>\n",
       "      <td>URY</td>\n",
       "      <td>SA</td>\n",
       "      <td>64.600000</td>\n",
       "      <td>417.9919</td>\n",
       "      <td>436.5721</td>\n",
       "      <td>435.3630</td>\n",
       "    </tr>\n",
       "    <tr>\n",
       "      <th>36</th>\n",
       "      <td>JPN</td>\n",
       "      <td>AS</td>\n",
       "      <td>91.058028</td>\n",
       "      <td>532.4399</td>\n",
       "      <td>515.9585</td>\n",
       "      <td>538.3948</td>\n",
       "    </tr>\n",
       "    <tr>\n",
       "      <th>35</th>\n",
       "      <td>JOR</td>\n",
       "      <td>AS</td>\n",
       "      <td>60.114383</td>\n",
       "      <td>380.2590</td>\n",
       "      <td>408.1022</td>\n",
       "      <td>408.6691</td>\n",
       "    </tr>\n",
       "    <tr>\n",
       "      <th>42</th>\n",
       "      <td>LVA</td>\n",
       "      <td>EU</td>\n",
       "      <td>79.200600</td>\n",
       "      <td>482.3051</td>\n",
       "      <td>487.7581</td>\n",
       "      <td>490.2250</td>\n",
       "    </tr>\n",
       "  </tbody>\n",
       "</table>\n",
       "</div>"
      ],
      "text/plain": [
       "   Country Code Continent_Code  internet_users_per_100      Math   Reading  \\\n",
       "64          TTO             SA               69.198471  417.2434  427.2733   \n",
       "4           AUT             EU               83.940142  496.7423  484.8656   \n",
       "10          CHL             SA               64.289000  422.6714  458.5709   \n",
       "19          DZA             AF               38.200000  359.6062  349.8593   \n",
       "65          TUN             AF               48.519836  366.8180  361.0555   \n",
       "48          MNE             EU               68.119581  417.9341  426.8845   \n",
       "67          URY             SA               64.600000  417.9919  436.5721   \n",
       "36          JPN             AS               91.058028  532.4399  515.9585   \n",
       "35          JOR             AS               60.114383  380.2590  408.1022   \n",
       "42          LVA             EU               79.200600  482.3051  487.7581   \n",
       "\n",
       "     Science  \n",
       "64  424.5905  \n",
       "4   495.0375  \n",
       "10  446.9561  \n",
       "19  375.7451  \n",
       "65  386.4034  \n",
       "48  411.3136  \n",
       "67  435.3630  \n",
       "36  538.3948  \n",
       "35  408.6691  \n",
       "42  490.2250  "
      ]
     },
     "execution_count": 48,
     "metadata": {},
     "output_type": "execute_result"
    }
   ],
   "source": [
    "dfpisa.sample(10)"
   ]
  },
  {
   "cell_type": "code",
   "execution_count": 49,
   "id": "269d2650-d83d-404a-af31-88f1cd91ed42",
   "metadata": {},
   "outputs": [
    {
     "data": {
      "text/plain": [
       "(70, 6)"
      ]
     },
     "execution_count": 49,
     "metadata": {},
     "output_type": "execute_result"
    }
   ],
   "source": [
    "dfpisa.shape"
   ]
  },
  {
   "cell_type": "code",
   "execution_count": 52,
   "id": "7b3044eb-3c04-41a4-b120-ad39304853ec",
   "metadata": {},
   "outputs": [
    {
     "data": {
      "text/html": [
       "<div>\n",
       "<style scoped>\n",
       "    .dataframe tbody tr th:only-of-type {\n",
       "        vertical-align: middle;\n",
       "    }\n",
       "\n",
       "    .dataframe tbody tr th {\n",
       "        vertical-align: top;\n",
       "    }\n",
       "\n",
       "    .dataframe thead th {\n",
       "        text-align: right;\n",
       "    }\n",
       "</style>\n",
       "<table border=\"1\" class=\"dataframe\">\n",
       "  <thead>\n",
       "    <tr style=\"text-align: right;\">\n",
       "      <th></th>\n",
       "      <th>count</th>\n",
       "      <th>mean</th>\n",
       "      <th>std</th>\n",
       "      <th>min</th>\n",
       "      <th>25%</th>\n",
       "      <th>50%</th>\n",
       "      <th>75%</th>\n",
       "      <th>max</th>\n",
       "    </tr>\n",
       "  </thead>\n",
       "  <tbody>\n",
       "    <tr>\n",
       "      <th>internet_users_per_100</th>\n",
       "      <td>70.0</td>\n",
       "      <td>71.973099</td>\n",
       "      <td>16.390632</td>\n",
       "      <td>21.976068</td>\n",
       "      <td>60.899020</td>\n",
       "      <td>72.99935</td>\n",
       "      <td>85.026763</td>\n",
       "      <td>98.2000</td>\n",
       "    </tr>\n",
       "    <tr>\n",
       "      <th>Math</th>\n",
       "      <td>70.0</td>\n",
       "      <td>460.971557</td>\n",
       "      <td>53.327205</td>\n",
       "      <td>327.702000</td>\n",
       "      <td>417.416075</td>\n",
       "      <td>477.60715</td>\n",
       "      <td>500.482925</td>\n",
       "      <td>564.1897</td>\n",
       "    </tr>\n",
       "    <tr>\n",
       "      <th>Reading</th>\n",
       "      <td>70.0</td>\n",
       "      <td>460.997291</td>\n",
       "      <td>49.502679</td>\n",
       "      <td>346.549000</td>\n",
       "      <td>426.948625</td>\n",
       "      <td>480.19985</td>\n",
       "      <td>499.687475</td>\n",
       "      <td>535.1002</td>\n",
       "    </tr>\n",
       "    <tr>\n",
       "      <th>Science</th>\n",
       "      <td>70.0</td>\n",
       "      <td>465.439093</td>\n",
       "      <td>48.397254</td>\n",
       "      <td>331.638800</td>\n",
       "      <td>425.923375</td>\n",
       "      <td>475.40005</td>\n",
       "      <td>502.431250</td>\n",
       "      <td>555.5747</td>\n",
       "    </tr>\n",
       "  </tbody>\n",
       "</table>\n",
       "</div>"
      ],
      "text/plain": [
       "                        count        mean        std         min         25%  \\\n",
       "internet_users_per_100   70.0   71.973099  16.390632   21.976068   60.899020   \n",
       "Math                     70.0  460.971557  53.327205  327.702000  417.416075   \n",
       "Reading                  70.0  460.997291  49.502679  346.549000  426.948625   \n",
       "Science                  70.0  465.439093  48.397254  331.638800  425.923375   \n",
       "\n",
       "                              50%         75%       max  \n",
       "internet_users_per_100   72.99935   85.026763   98.2000  \n",
       "Math                    477.60715  500.482925  564.1897  \n",
       "Reading                 480.19985  499.687475  535.1002  \n",
       "Science                 475.40005  502.431250  555.5747  "
      ]
     },
     "execution_count": 52,
     "metadata": {},
     "output_type": "execute_result"
    }
   ],
   "source": [
    "dfpisa.describe().T"
   ]
  },
  {
   "cell_type": "code",
   "execution_count": 53,
   "id": "47aa245f-8a66-4a24-a747-92110bcbbcb8",
   "metadata": {},
   "outputs": [
    {
     "data": {
      "text/plain": [
       "array(['EU', 'AS', 'SA', 'OC', nan, 'AF'], dtype=object)"
      ]
     },
     "execution_count": 53,
     "metadata": {},
     "output_type": "execute_result"
    }
   ],
   "source": [
    "dfpisa.\tContinent_Code.unique()"
   ]
  },
  {
   "cell_type": "code",
   "execution_count": 79,
   "id": "109e91c1-15d7-4009-85f7-3787b75e4a05",
   "metadata": {},
   "outputs": [
    {
     "data": {
      "image/png": "[encoded data removed]",
      "text/plain": [
       "<Figure size 432x288 with 1 Axes>"
      ]
     },
     "metadata": {
      "needs_background": "light"
     },
     "output_type": "display_data"
    }
   ],
   "source": [
    "dfpisa.Math.plot.hist(bins=10);"
   ]
  },
  {
   "cell_type": "code",
   "execution_count": 78,
   "id": "d18058a2-8734-4b8b-935e-1eb266986595",
   "metadata": {},
   "outputs": [
    {
     "data": {
      "image/png": "[encoded data removed]",
      "text/plain": [
       "<Figure size 432x288 with 1 Axes>"
      ]
     },
     "metadata": {
      "needs_background": "light"
     },
     "output_type": "display_data"
    }
   ],
   "source": [
    "dfpisa.Reading.plot.hist(bins=10);"
   ]
  },
  {
   "cell_type": "code",
   "execution_count": 77,
   "id": "ea2a18ef-f621-4b45-8ec3-643240df85b3",
   "metadata": {},
   "outputs": [
    {
     "data": {
      "image/png": "[encoded data removed]",
      "text/plain": [
       "<Figure size 432x288 with 1 Axes>"
      ]
     },
     "metadata": {
      "needs_background": "light"
     },
     "output_type": "display_data"
    }
   ],
   "source": [
    "dfpisa.Science.plot.hist(bins=10);"
   ]
  },
  {
   "cell_type": "code",
   "execution_count": 76,
   "id": "bb38b6c0-0236-45dc-a1fc-bd4b6fadba89",
   "metadata": {},
   "outputs": [
    {
     "data": {
      "image/png": "[encoded data removed]",
      "text/plain": [
       "<Figure size 432x288 with 1 Axes>"
      ]
     },
     "metadata": {
      "needs_background": "light"
     },
     "output_type": "display_data"
    }
   ],
   "source": [
    "dfpisa.internet_users_per_100.plot.hist(bins=10);"
   ]
  },
  {
   "cell_type": "code",
   "execution_count": 80,
   "id": "1cde37f4-4d09-4a68-abbc-fbc344f2100d",
   "metadata": {},
   "outputs": [
    {
     "data": {
      "image/png": "[encoded data removed]",
      "text/plain": [
       "<Figure size 432x288 with 1 Axes>"
      ]
     },
     "metadata": {
      "needs_background": "light"
     },
     "output_type": "display_data"
    }
   ],
   "source": [
    "dfpisa.boxplot();"
   ]
  },
  {
   "cell_type": "code",
   "execution_count": 83,
   "id": "46717d0c-fb8a-411d-991e-48691a083bfc",
   "metadata": {},
   "outputs": [
    {
     "data": {
      "image/png": "[encoded data removed]",
      "text/plain": [
       "<Figure size 432x288 with 1 Axes>"
      ]
     },
     "metadata": {
      "needs_background": "light"
     },
     "output_type": "display_data"
    }
   ],
   "source": [
    "sns.boxplot(data=dfpisa);"
   ]
  },
  {
   "cell_type": "code",
   "execution_count": 84,
   "id": "f5c0ebd6-5445-47ad-b98a-f21b4c886d3a",
   "metadata": {},
   "outputs": [
    {
     "data": {
      "text/plain": [
       "internet_users_per_100     268.652830\n",
       "Math                      2843.790844\n",
       "Reading                   2450.515182\n",
       "Science                   2342.294243\n",
       "dtype: float64"
      ]
     },
     "execution_count": 84,
     "metadata": {},
     "output_type": "execute_result"
    }
   ],
   "source": [
    "dfpisa.var()"
   ]
  },
  {
   "cell_type": "code",
   "execution_count": 86,
   "id": "2ee48f32-f5ff-4383-b3f5-4bbf8c826ca4",
   "metadata": {},
   "outputs": [
    {
     "data": {
      "image/png": "[encoded data removed]",
      "text/plain": [
       "<Figure size 807.125x720 with 14 Axes>"
      ]
     },
     "metadata": {
      "needs_background": "light"
     },
     "output_type": "display_data"
    }
   ],
   "source": [
    "sns.pairplot(dfpisa, hue=\"Continent_Code\", corner=True);"
   ]
  },
  {
   "cell_type": "code",
   "execution_count": null,
   "id": "82bbe57c-b2a1-4871-9cb4-5a7004884444",
   "metadata": {},
   "outputs": [],
   "source": []
  },
  {
   "cell_type": "markdown",
   "id": "26fc955b-16ae-4c9f-bad6-144744324cf5",
   "metadata": {},
   "source": [
    "**2. Kısmın Çözümü**"
   ]
  },
  {
   "cell_type": "code",
   "execution_count": null,
   "id": "b0b17730-6c1d-43c1-ba2f-71cd2e0d05e0",
   "metadata": {},
   "outputs": [],
   "source": [
    "# iki kıtanın matematik ortalamalarını karşılaştıracağız.\n",
    "# yüzde 95 güven aralığında anlamlı olup olmadıklarına bakacağız.\n",
    "# iki yöne bakacağız. \n",
    "# H0 : muA = muB\n",
    "# bu nedenle two-tailed dağılım olacak. \n",
    "# standart sapmayı bilmediğimizden t testi olacak. \n",
    "# iki örnek olduğundan two sample t test yapacağız. \n",
    "# iki gruptaki denekler arasında doğal bir eşleşme yoktur.\n",
    "# H0:  iki grubun populasyon ortalamaları anlamlı ölçüde farklı değildir. \n",
    "# H0: muA = muB\n",
    "# örneklem büyüklüğü: iki grup içinde keyfi.\n",
    "# Bu soruda bağımsız iki örnekli t test i kullanacağız.\n",
    "# \"independent Two-sample t-test\" \n"
   ]
  },
  {
   "cell_type": "code",
   "execution_count": null,
   "id": "5c3ac38e-a84b-4c36-b494-791114b1585f",
   "metadata": {},
   "outputs": [],
   "source": [
    "# Null hipotez İki grubun popülasyon ortalamalarının önemli ölçüde farklı olmadığıdır.\n",
    "# alternatif hipotez ise H1 : muA != muB"
   ]
  },
  {
   "cell_type": "code",
   "execution_count": null,
   "id": "e6b78b5d-38e9-40ca-892f-4bd7b4bc22ff",
   "metadata": {},
   "outputs": [],
   "source": [
    "# stats.ttest_ind() fonksiyonunda NaN olası ihtimaline karşı nan_policy='omit' parametresi kullanacağız.\n"
   ]
  },
  {
   "cell_type": "code",
   "execution_count": null,
   "id": "51225dfe-1a89-4984-92a8-0f0aaa470e40",
   "metadata": {},
   "outputs": [],
   "source": []
  },
  {
   "cell_type": "code",
   "execution_count": 87,
   "id": "deebfb58-7b4c-4c2f-8e84-f1ebc818d284",
   "metadata": {},
   "outputs": [],
   "source": [
    "# soruda bizden EU ve AS kıtalarındaki matematik ortalamalarını karşılaştırmamızı istiyor.\n",
    "# EU ve AS kıtalarını süzüp, dfEU ve dfAS olarak yeni değişkenlere atıyoruz.\n",
    "dfEU = dfpisa[dfpisa[\"Continent_Code\"]==\"EU\"]\n",
    "dfAS = dfpisa[dfpisa[\"Continent_Code\"]==\"AS\"]"
   ]
  },
  {
   "cell_type": "code",
   "execution_count": 88,
   "id": "7a35d8b8-b962-49c2-b23b-1b6788f8a656",
   "metadata": {},
   "outputs": [
    {
     "data": {
      "text/plain": [
       "(0.870055317967983, 0.38826888111307345)"
      ]
     },
     "execution_count": 88,
     "metadata": {},
     "output_type": "execute_result"
    }
   ],
   "source": [
    "statistic, pvalue = stats.ttest_ind(dfEU.Math, dfAS.Math, nan_policy='omit')  # independet T test\n",
    "\n",
    "statistic, pvalue"
   ]
  },
  {
   "cell_type": "code",
   "execution_count": 92,
   "id": "a0291c3d-031c-4120-bc93-d097ab406339",
   "metadata": {},
   "outputs": [
    {
     "name": "stdout",
     "output_type": "stream",
     "text": [
      "Fail to reject\n"
     ]
    }
   ],
   "source": [
    "\"\"\" \n",
    "Hesaplanan p-değeri (0,3882688111307345) kritik alfa değerinden (α/2 = 0,025) küçükse,\n",
    "boş hipotezi reddederiz (ve ortalamaların önemli ölçüde farklı olduğu sonucuna varırız) VEYA tam tersi.\n",
    "\n",
    "\"\"\"\n",
    "\n",
    "# hesaplanan p_value değeri α/2 = 0,025 değerine küçük olmadığından,\n",
    "# HO hipotezini reddedemiyoruz. (fail to reject)\n",
    "\n",
    "α = 0.05  # α/2 = 0.025\n",
    "\n",
    "if pvalue < α/2:\n",
    "    print(\"Reject the Null\")\n",
    "else:\n",
    "    print(\"Fail to reject\")"
   ]
  },
  {
   "cell_type": "code",
   "execution_count": 95,
   "id": "d0b78280-911e-4e50-836b-81264b66d595",
   "metadata": {},
   "outputs": [
    {
     "data": {
      "text/plain": [
       "(477.98144864864867, 466.21664705882347)"
      ]
     },
     "execution_count": 95,
     "metadata": {},
     "output_type": "execute_result"
    }
   ],
   "source": [
    "dfEU.Math.mean(), dfAS.Math.mean()"
   ]
  },
  {
   "cell_type": "code",
   "execution_count": 96,
   "id": "ec7d28b4-2cd7-43fc-821b-774ce9b3ba07",
   "metadata": {},
   "outputs": [
    {
     "data": {
      "text/plain": [
       "11.764801589825197"
      ]
     },
     "execution_count": 96,
     "metadata": {},
     "output_type": "execute_result"
    }
   ],
   "source": [
    "math_mean_diff= dfEU.Math.mean() - dfAS.Math.mean()\n",
    "math_mean_diff"
   ]
  },
  {
   "cell_type": "markdown",
   "id": "7a42a72a-f519-44ad-a273-d4f222b1b5c1",
   "metadata": {},
   "source": [
    "**Sonuç**"
   ]
  },
  {
   "cell_type": "code",
   "execution_count": 97,
   "id": "6b9bcbd5-e0c8-43a4-a664-a70fa1fec9e0",
   "metadata": {},
   "outputs": [
    {
     "data": {
      "text/plain": [
       "'\\n\\nEU ve AS matematik puanları ortalamalarında istatiksel olarak, anlamlı bir fark YOKTUR \\n\\n'"
      ]
     },
     "execution_count": 97,
     "metadata": {},
     "output_type": "execute_result"
    }
   ],
   "source": [
    "\"\"\"\n",
    "\n",
    "EU ve AS matematik puanları ortalamalarında istatiksel olarak,\n",
    "anlamlı bir fark YOKTUR hipotezini reddedemeyiz.  \n",
    "\n",
    "\"\"\""
   ]
  },
  {
   "cell_type": "code",
   "execution_count": 109,
   "id": "22ecc944-dc59-4552-9745-17b2f0e1fbac",
   "metadata": {},
   "outputs": [
    {
     "data": {
      "image/png": "[encoded data removed]",
      "text/plain": [
       "<Figure size 432x288 with 1 Axes>"
      ]
     },
     "metadata": {
      "needs_background": "light"
     },
     "output_type": "display_data"
    }
   ],
   "source": [
    "dfEU[[\"Math\"]].boxplot(vert=False);"
   ]
  },
  {
   "cell_type": "code",
   "execution_count": 110,
   "id": "913e787f-aba1-42f2-ab5f-de8944621ab6",
   "metadata": {},
   "outputs": [
    {
     "data": {
      "image/png": "[encoded data removed]",
      "text/plain": [
       "<Figure size 432x288 with 1 Axes>"
      ]
     },
     "metadata": {
      "needs_background": "light"
     },
     "output_type": "display_data"
    }
   ],
   "source": [
    "dfAS[[\"Math\"]].boxplot(vert=False);"
   ]
  },
  {
   "cell_type": "code",
   "execution_count": null,
   "id": "4f33ced1-0680-4492-8288-dac7bb54432a",
   "metadata": {},
   "outputs": [],
   "source": []
  },
  {
   "cell_type": "markdown",
   "id": "7e91d402-22ca-4fcf-838b-29d596b6cc0e",
   "metadata": {},
   "source": [
    "**EXERCISE 4.** The sample dataset has placement test scores (out of 100 points) for four subject areas: English, Reading, Math, and Writing. Students in the sample completed all 4 placement tests when they enrolled in the university. Suppose we are particularly interested in the English and Math sections, and want to determine whether students tended to score higher on their English or Math test, on average. We could use a paired t test to test if there was a significant difference in the average of the two tests."
   ]
  },
  {
   "cell_type": "code",
   "execution_count": 112,
   "id": "f53a89ea-97c3-4dfe-a5b7-36906e98b11f",
   "metadata": {},
   "outputs": [],
   "source": [
    "dfscores = pd.read_csv(\"students_2014.csv\", sep = \",\", na_values = \".\", index_col = 0)"
   ]
  },
  {
   "cell_type": "code",
   "execution_count": 113,
   "id": "0715206f-ca37-4ef2-a404-f6975cc6957a",
   "metadata": {},
   "outputs": [
    {
     "data": {
      "text/html": [
       "<div>\n",
       "<style scoped>\n",
       "    .dataframe tbody tr th:only-of-type {\n",
       "        vertical-align: middle;\n",
       "    }\n",
       "\n",
       "    .dataframe tbody tr th {\n",
       "        vertical-align: top;\n",
       "    }\n",
       "\n",
       "    .dataframe thead th {\n",
       "        text-align: right;\n",
       "    }\n",
       "</style>\n",
       "<table border=\"1\" class=\"dataframe\">\n",
       "  <thead>\n",
       "    <tr style=\"text-align: right;\">\n",
       "      <th></th>\n",
       "      <th>bday</th>\n",
       "      <th>enrolldate</th>\n",
       "      <th>expgradate</th>\n",
       "      <th>Rank</th>\n",
       "      <th>Major</th>\n",
       "      <th>Gender</th>\n",
       "      <th>Athlete</th>\n",
       "      <th>Height</th>\n",
       "      <th>Weight</th>\n",
       "      <th>Smoking</th>\n",
       "      <th>...</th>\n",
       "      <th>English</th>\n",
       "      <th>Reading</th>\n",
       "      <th>Math</th>\n",
       "      <th>Writing</th>\n",
       "      <th>State</th>\n",
       "      <th>LiveOnCampus</th>\n",
       "      <th>HowCommute</th>\n",
       "      <th>CommuteTime</th>\n",
       "      <th>SleepTime</th>\n",
       "      <th>StudyTime</th>\n",
       "    </tr>\n",
       "    <tr>\n",
       "      <th>ids</th>\n",
       "      <th></th>\n",
       "      <th></th>\n",
       "      <th></th>\n",
       "      <th></th>\n",
       "      <th></th>\n",
       "      <th></th>\n",
       "      <th></th>\n",
       "      <th></th>\n",
       "      <th></th>\n",
       "      <th></th>\n",
       "      <th></th>\n",
       "      <th></th>\n",
       "      <th></th>\n",
       "      <th></th>\n",
       "      <th></th>\n",
       "      <th></th>\n",
       "      <th></th>\n",
       "      <th></th>\n",
       "      <th></th>\n",
       "      <th></th>\n",
       "      <th></th>\n",
       "    </tr>\n",
       "  </thead>\n",
       "  <tbody>\n",
       "    <tr>\n",
       "      <th>32304</th>\n",
       "      <td>8/7/1994</td>\n",
       "      <td>4-Aug-2014</td>\n",
       "      <td>11-May-2020</td>\n",
       "      <td>1.0</td>\n",
       "      <td>Aerospace engineering</td>\n",
       "      <td>1.0</td>\n",
       "      <td>1</td>\n",
       "      <td>67.24</td>\n",
       "      <td>157.19</td>\n",
       "      <td>0.0</td>\n",
       "      <td>...</td>\n",
       "      <td>82.77</td>\n",
       "      <td>73.27</td>\n",
       "      <td>55.81</td>\n",
       "      <td>79.15</td>\n",
       "      <td>In state</td>\n",
       "      <td>1.0</td>\n",
       "      <td>NaN</td>\n",
       "      <td>NaN</td>\n",
       "      <td>NaN</td>\n",
       "      <td>2.0</td>\n",
       "    </tr>\n",
       "    <tr>\n",
       "      <th>22617</th>\n",
       "      <td>12/4/1994</td>\n",
       "      <td>5-Aug-2013</td>\n",
       "      <td>14-May-2018</td>\n",
       "      <td>2.0</td>\n",
       "      <td>graphic design with a minor in photography</td>\n",
       "      <td>0.0</td>\n",
       "      <td>1</td>\n",
       "      <td>74.05</td>\n",
       "      <td>NaN</td>\n",
       "      <td>2.0</td>\n",
       "      <td>...</td>\n",
       "      <td>82.14</td>\n",
       "      <td>86.18</td>\n",
       "      <td>67.71</td>\n",
       "      <td>76.71</td>\n",
       "      <td>In state</td>\n",
       "      <td>1.0</td>\n",
       "      <td>NaN</td>\n",
       "      <td>NaN</td>\n",
       "      <td>5.0</td>\n",
       "      <td>7.0</td>\n",
       "    </tr>\n",
       "    <tr>\n",
       "      <th>38980</th>\n",
       "      <td>5/19/1995</td>\n",
       "      <td>4-Aug-2014</td>\n",
       "      <td>11-May-2020</td>\n",
       "      <td>1.0</td>\n",
       "      <td>bio</td>\n",
       "      <td>0.0</td>\n",
       "      <td>0</td>\n",
       "      <td>74.92</td>\n",
       "      <td>165.06</td>\n",
       "      <td>0.0</td>\n",
       "      <td>...</td>\n",
       "      <td>88.44</td>\n",
       "      <td>84.15</td>\n",
       "      <td>78.38</td>\n",
       "      <td>69.52</td>\n",
       "      <td>In state</td>\n",
       "      <td>0.0</td>\n",
       "      <td>3.0</td>\n",
       "      <td>27.0</td>\n",
       "      <td>6.0</td>\n",
       "      <td>5.0</td>\n",
       "    </tr>\n",
       "    <tr>\n",
       "      <th>49165</th>\n",
       "      <td>1/16/1992</td>\n",
       "      <td>6-Aug-2012</td>\n",
       "      <td>14-May-2018</td>\n",
       "      <td>3.0</td>\n",
       "      <td>NaN</td>\n",
       "      <td>NaN</td>\n",
       "      <td>1</td>\n",
       "      <td>66.32</td>\n",
       "      <td>185.90</td>\n",
       "      <td>2.0</td>\n",
       "      <td>...</td>\n",
       "      <td>90.18</td>\n",
       "      <td>91.35</td>\n",
       "      <td>61.72</td>\n",
       "      <td>75.24</td>\n",
       "      <td>In state</td>\n",
       "      <td>0.0</td>\n",
       "      <td>3.0</td>\n",
       "      <td>26.0</td>\n",
       "      <td>4.0</td>\n",
       "      <td>9.0</td>\n",
       "    </tr>\n",
       "    <tr>\n",
       "      <th>29045</th>\n",
       "      <td>9/17/1993</td>\n",
       "      <td>NaN</td>\n",
       "      <td>NaN</td>\n",
       "      <td>NaN</td>\n",
       "      <td>French</td>\n",
       "      <td>0.0</td>\n",
       "      <td>0</td>\n",
       "      <td>70.12</td>\n",
       "      <td>164.59</td>\n",
       "      <td>0.0</td>\n",
       "      <td>...</td>\n",
       "      <td>86.00</td>\n",
       "      <td>91.34</td>\n",
       "      <td>64.41</td>\n",
       "      <td>71.02</td>\n",
       "      <td>Out of state</td>\n",
       "      <td>0.0</td>\n",
       "      <td>3.0</td>\n",
       "      <td>20.0</td>\n",
       "      <td>1.0</td>\n",
       "      <td>6.0</td>\n",
       "    </tr>\n",
       "    <tr>\n",
       "      <th>37553</th>\n",
       "      <td>6/6/1992</td>\n",
       "      <td>5-Aug-2013</td>\n",
       "      <td>13-May-2019</td>\n",
       "      <td>2.0</td>\n",
       "      <td>NaN</td>\n",
       "      <td>0.0</td>\n",
       "      <td>0</td>\n",
       "      <td>68.22</td>\n",
       "      <td>167.04</td>\n",
       "      <td>0.0</td>\n",
       "      <td>...</td>\n",
       "      <td>82.86</td>\n",
       "      <td>80.98</td>\n",
       "      <td>67.23</td>\n",
       "      <td>79.49</td>\n",
       "      <td>In state</td>\n",
       "      <td>0.0</td>\n",
       "      <td>3.0</td>\n",
       "      <td>18.0</td>\n",
       "      <td>3.0</td>\n",
       "      <td>5.0</td>\n",
       "    </tr>\n",
       "    <tr>\n",
       "      <th>22494</th>\n",
       "      <td>12/5/1995</td>\n",
       "      <td>5-Aug-2013</td>\n",
       "      <td>14-May-2018</td>\n",
       "      <td>2.0</td>\n",
       "      <td>premed</td>\n",
       "      <td>0.0</td>\n",
       "      <td>1</td>\n",
       "      <td>64.92</td>\n",
       "      <td>129.16</td>\n",
       "      <td>0.0</td>\n",
       "      <td>...</td>\n",
       "      <td>83.11</td>\n",
       "      <td>75.79</td>\n",
       "      <td>65.43</td>\n",
       "      <td>NaN</td>\n",
       "      <td>NaN</td>\n",
       "      <td>NaN</td>\n",
       "      <td>NaN</td>\n",
       "      <td>NaN</td>\n",
       "      <td>4.0</td>\n",
       "      <td>5.0</td>\n",
       "    </tr>\n",
       "    <tr>\n",
       "      <th>36104</th>\n",
       "      <td>6/23/1994</td>\n",
       "      <td>5-Aug-2013</td>\n",
       "      <td>13-May-2019</td>\n",
       "      <td>2.0</td>\n",
       "      <td>eudcation</td>\n",
       "      <td>0.0</td>\n",
       "      <td>1</td>\n",
       "      <td>70.74</td>\n",
       "      <td>175.65</td>\n",
       "      <td>0.0</td>\n",
       "      <td>...</td>\n",
       "      <td>76.49</td>\n",
       "      <td>89.04</td>\n",
       "      <td>62.25</td>\n",
       "      <td>67.08</td>\n",
       "      <td>In state</td>\n",
       "      <td>0.0</td>\n",
       "      <td>3.0</td>\n",
       "      <td>26.0</td>\n",
       "      <td>1.0</td>\n",
       "      <td>10.0</td>\n",
       "    </tr>\n",
       "    <tr>\n",
       "      <th>40803</th>\n",
       "      <td>4/24/1993</td>\n",
       "      <td>4-Aug-2014</td>\n",
       "      <td>13-May-2019</td>\n",
       "      <td>1.0</td>\n",
       "      <td>what?</td>\n",
       "      <td>1.0</td>\n",
       "      <td>0</td>\n",
       "      <td>62.38</td>\n",
       "      <td>135.52</td>\n",
       "      <td>0.0</td>\n",
       "      <td>...</td>\n",
       "      <td>94.64</td>\n",
       "      <td>89.06</td>\n",
       "      <td>70.44</td>\n",
       "      <td>88.15</td>\n",
       "      <td>In state</td>\n",
       "      <td>1.0</td>\n",
       "      <td>NaN</td>\n",
       "      <td>NaN</td>\n",
       "      <td>3.0</td>\n",
       "      <td>2.0</td>\n",
       "    </tr>\n",
       "    <tr>\n",
       "      <th>20230</th>\n",
       "      <td>1/2/1996</td>\n",
       "      <td>4-Aug-2014</td>\n",
       "      <td>11-May-2020</td>\n",
       "      <td>1.0</td>\n",
       "      <td>pre-pharma</td>\n",
       "      <td>0.0</td>\n",
       "      <td>1</td>\n",
       "      <td>80.11</td>\n",
       "      <td>NaN</td>\n",
       "      <td>0.0</td>\n",
       "      <td>...</td>\n",
       "      <td>81.60</td>\n",
       "      <td>75.60</td>\n",
       "      <td>65.36</td>\n",
       "      <td>76.07</td>\n",
       "      <td>In state</td>\n",
       "      <td>1.0</td>\n",
       "      <td>NaN</td>\n",
       "      <td>NaN</td>\n",
       "      <td>8.0</td>\n",
       "      <td>3.0</td>\n",
       "    </tr>\n",
       "  </tbody>\n",
       "</table>\n",
       "<p>10 rows × 22 columns</p>\n",
       "</div>"
      ],
      "text/plain": [
       "            bday  enrolldate   expgradate  Rank  \\\n",
       "ids                                               \n",
       "32304   8/7/1994  4-Aug-2014  11-May-2020   1.0   \n",
       "22617  12/4/1994  5-Aug-2013  14-May-2018   2.0   \n",
       "38980  5/19/1995  4-Aug-2014  11-May-2020   1.0   \n",
       "49165  1/16/1992  6-Aug-2012  14-May-2018   3.0   \n",
       "29045  9/17/1993         NaN          NaN   NaN   \n",
       "37553   6/6/1992  5-Aug-2013  13-May-2019   2.0   \n",
       "22494  12/5/1995  5-Aug-2013  14-May-2018   2.0   \n",
       "36104  6/23/1994  5-Aug-2013  13-May-2019   2.0   \n",
       "40803  4/24/1993  4-Aug-2014  13-May-2019   1.0   \n",
       "20230   1/2/1996  4-Aug-2014  11-May-2020   1.0   \n",
       "\n",
       "                                            Major  Gender  Athlete  Height  \\\n",
       "ids                                                                          \n",
       "32304                       Aerospace engineering     1.0        1   67.24   \n",
       "22617  graphic design with a minor in photography     0.0        1   74.05   \n",
       "38980                                         bio     0.0        0   74.92   \n",
       "49165                                         NaN     NaN        1   66.32   \n",
       "29045                                      French     0.0        0   70.12   \n",
       "37553                                         NaN     0.0        0   68.22   \n",
       "22494                                      premed     0.0        1   64.92   \n",
       "36104                                   eudcation     0.0        1   70.74   \n",
       "40803                                       what?     1.0        0   62.38   \n",
       "20230                                  pre-pharma     0.0        1   80.11   \n",
       "\n",
       "       Weight  Smoking  ...  English Reading   Math  Writing         State  \\\n",
       "ids                     ...                                                  \n",
       "32304  157.19      0.0  ...    82.77   73.27  55.81    79.15      In state   \n",
       "22617     NaN      2.0  ...    82.14   86.18  67.71    76.71      In state   \n",
       "38980  165.06      0.0  ...    88.44   84.15  78.38    69.52      In state   \n",
       "49165  185.90      2.0  ...    90.18   91.35  61.72    75.24      In state   \n",
       "29045  164.59      0.0  ...    86.00   91.34  64.41    71.02  Out of state   \n",
       "37553  167.04      0.0  ...    82.86   80.98  67.23    79.49      In state   \n",
       "22494  129.16      0.0  ...    83.11   75.79  65.43      NaN           NaN   \n",
       "36104  175.65      0.0  ...    76.49   89.04  62.25    67.08      In state   \n",
       "40803  135.52      0.0  ...    94.64   89.06  70.44    88.15      In state   \n",
       "20230     NaN      0.0  ...    81.60   75.60  65.36    76.07      In state   \n",
       "\n",
       "       LiveOnCampus HowCommute  CommuteTime  SleepTime  StudyTime  \n",
       "ids                                                                \n",
       "32304           1.0        NaN          NaN        NaN        2.0  \n",
       "22617           1.0        NaN          NaN        5.0        7.0  \n",
       "38980           0.0        3.0         27.0        6.0        5.0  \n",
       "49165           0.0        3.0         26.0        4.0        9.0  \n",
       "29045           0.0        3.0         20.0        1.0        6.0  \n",
       "37553           0.0        3.0         18.0        3.0        5.0  \n",
       "22494           NaN        NaN          NaN        4.0        5.0  \n",
       "36104           0.0        3.0         26.0        1.0       10.0  \n",
       "40803           1.0        NaN          NaN        3.0        2.0  \n",
       "20230           1.0        NaN          NaN        8.0        3.0  \n",
       "\n",
       "[10 rows x 22 columns]"
      ]
     },
     "execution_count": 113,
     "metadata": {},
     "output_type": "execute_result"
    }
   ],
   "source": [
    "dfscores.sample(10)"
   ]
  },
  {
   "cell_type": "code",
   "execution_count": 114,
   "id": "de96fbc0-5df5-4b13-8c60-17ea1fd2cdb8",
   "metadata": {},
   "outputs": [
    {
     "data": {
      "text/plain": [
       "(435, 22)"
      ]
     },
     "execution_count": 114,
     "metadata": {},
     "output_type": "execute_result"
    }
   ],
   "source": [
    "dfscores.shape"
   ]
  },
  {
   "cell_type": "code",
   "execution_count": 115,
   "id": "75a27cb6-1c1c-4374-affc-a803a88565a1",
   "metadata": {},
   "outputs": [
    {
     "data": {
      "text/plain": [
       "English  Math \n",
       "False    False    398\n",
       "True     False     24\n",
       "False    True      11\n",
       "True     True       2\n",
       "dtype: int64"
      ]
     },
     "execution_count": 115,
     "metadata": {},
     "output_type": "execute_result"
    }
   ],
   "source": [
    "dfscores[[\"English\", \"Math\"]].isnull().value_counts()"
   ]
  },
  {
   "cell_type": "code",
   "execution_count": 118,
   "id": "582a051e-17e6-4e1d-9d35-a89dcd3a59ab",
   "metadata": {},
   "outputs": [],
   "source": [
    "# Drop NaN data \n",
    "\n",
    "dfscoresdrop = dfscores[[\"English\", \"Math\"]].dropna()  # Note that NaN values are dropped in both columns "
   ]
  },
  {
   "cell_type": "code",
   "execution_count": 117,
   "id": "8123cf6e-71e0-4833-9f01-68917334cfbb",
   "metadata": {},
   "outputs": [
    {
     "data": {
      "text/plain": [
       "English  Math \n",
       "False    False    398\n",
       "dtype: int64"
      ]
     },
     "execution_count": 117,
     "metadata": {},
     "output_type": "execute_result"
    }
   ],
   "source": [
    "dfscoresdrop.isnull().value_counts()"
   ]
  },
  {
   "cell_type": "code",
   "execution_count": 119,
   "id": "6ea8fce2-1a63-4ce4-935d-cc4ac55fc4df",
   "metadata": {},
   "outputs": [
    {
     "data": {
      "text/html": [
       "<div>\n",
       "<style scoped>\n",
       "    .dataframe tbody tr th:only-of-type {\n",
       "        vertical-align: middle;\n",
       "    }\n",
       "\n",
       "    .dataframe tbody tr th {\n",
       "        vertical-align: top;\n",
       "    }\n",
       "\n",
       "    .dataframe thead th {\n",
       "        text-align: right;\n",
       "    }\n",
       "</style>\n",
       "<table border=\"1\" class=\"dataframe\">\n",
       "  <thead>\n",
       "    <tr style=\"text-align: right;\">\n",
       "      <th></th>\n",
       "      <th>English</th>\n",
       "      <th>Math</th>\n",
       "    </tr>\n",
       "    <tr>\n",
       "      <th>ids</th>\n",
       "      <th></th>\n",
       "      <th></th>\n",
       "    </tr>\n",
       "  </thead>\n",
       "  <tbody>\n",
       "    <tr>\n",
       "      <th>43783</th>\n",
       "      <td>88.24</td>\n",
       "      <td>60.02</td>\n",
       "    </tr>\n",
       "    <tr>\n",
       "      <th>20278</th>\n",
       "      <td>89.45</td>\n",
       "      <td>70.19</td>\n",
       "    </tr>\n",
       "    <tr>\n",
       "      <th>20389</th>\n",
       "      <td>96.73</td>\n",
       "      <td>71.20</td>\n",
       "    </tr>\n",
       "    <tr>\n",
       "      <th>22820</th>\n",
       "      <td>74.06</td>\n",
       "      <td>55.89</td>\n",
       "    </tr>\n",
       "    <tr>\n",
       "      <th>24559</th>\n",
       "      <td>82.61</td>\n",
       "      <td>65.52</td>\n",
       "    </tr>\n",
       "    <tr>\n",
       "      <th>...</th>\n",
       "      <td>...</td>\n",
       "      <td>...</td>\n",
       "    </tr>\n",
       "    <tr>\n",
       "      <th>34021</th>\n",
       "      <td>87.72</td>\n",
       "      <td>65.31</td>\n",
       "    </tr>\n",
       "    <tr>\n",
       "      <th>40697</th>\n",
       "      <td>91.01</td>\n",
       "      <td>70.25</td>\n",
       "    </tr>\n",
       "    <tr>\n",
       "      <th>34272</th>\n",
       "      <td>81.05</td>\n",
       "      <td>58.16</td>\n",
       "    </tr>\n",
       "    <tr>\n",
       "      <th>33628</th>\n",
       "      <td>75.59</td>\n",
       "      <td>66.84</td>\n",
       "    </tr>\n",
       "    <tr>\n",
       "      <th>39298</th>\n",
       "      <td>75.65</td>\n",
       "      <td>60.24</td>\n",
       "    </tr>\n",
       "  </tbody>\n",
       "</table>\n",
       "<p>435 rows × 2 columns</p>\n",
       "</div>"
      ],
      "text/plain": [
       "       English   Math\n",
       "ids                  \n",
       "43783    88.24  60.02\n",
       "20278    89.45  70.19\n",
       "20389    96.73  71.20\n",
       "22820    74.06  55.89\n",
       "24559    82.61  65.52\n",
       "...        ...    ...\n",
       "34021    87.72  65.31\n",
       "40697    91.01  70.25\n",
       "34272    81.05  58.16\n",
       "33628    75.59  66.84\n",
       "39298    75.65  60.24\n",
       "\n",
       "[435 rows x 2 columns]"
      ]
     },
     "execution_count": 119,
     "metadata": {},
     "output_type": "execute_result"
    }
   ],
   "source": [
    "dfscores[[\"English\", \"Math\"]]"
   ]
  },
  {
   "cell_type": "code",
   "execution_count": 120,
   "id": "59538234-a90f-46fd-bc98-dc721ddd9852",
   "metadata": {},
   "outputs": [
    {
     "data": {
      "text/html": [
       "<div>\n",
       "<style scoped>\n",
       "    .dataframe tbody tr th:only-of-type {\n",
       "        vertical-align: middle;\n",
       "    }\n",
       "\n",
       "    .dataframe tbody tr th {\n",
       "        vertical-align: top;\n",
       "    }\n",
       "\n",
       "    .dataframe thead th {\n",
       "        text-align: right;\n",
       "    }\n",
       "</style>\n",
       "<table border=\"1\" class=\"dataframe\">\n",
       "  <thead>\n",
       "    <tr style=\"text-align: right;\">\n",
       "      <th></th>\n",
       "      <th>English</th>\n",
       "      <th>Math</th>\n",
       "    </tr>\n",
       "    <tr>\n",
       "      <th>ids</th>\n",
       "      <th></th>\n",
       "      <th></th>\n",
       "    </tr>\n",
       "  </thead>\n",
       "  <tbody>\n",
       "    <tr>\n",
       "      <th>43783</th>\n",
       "      <td>88.24</td>\n",
       "      <td>60.02</td>\n",
       "    </tr>\n",
       "    <tr>\n",
       "      <th>20278</th>\n",
       "      <td>89.45</td>\n",
       "      <td>70.19</td>\n",
       "    </tr>\n",
       "    <tr>\n",
       "      <th>20389</th>\n",
       "      <td>96.73</td>\n",
       "      <td>71.20</td>\n",
       "    </tr>\n",
       "    <tr>\n",
       "      <th>22820</th>\n",
       "      <td>74.06</td>\n",
       "      <td>55.89</td>\n",
       "    </tr>\n",
       "    <tr>\n",
       "      <th>24559</th>\n",
       "      <td>82.61</td>\n",
       "      <td>65.52</td>\n",
       "    </tr>\n",
       "    <tr>\n",
       "      <th>...</th>\n",
       "      <td>...</td>\n",
       "      <td>...</td>\n",
       "    </tr>\n",
       "    <tr>\n",
       "      <th>34021</th>\n",
       "      <td>87.72</td>\n",
       "      <td>65.31</td>\n",
       "    </tr>\n",
       "    <tr>\n",
       "      <th>40697</th>\n",
       "      <td>91.01</td>\n",
       "      <td>70.25</td>\n",
       "    </tr>\n",
       "    <tr>\n",
       "      <th>34272</th>\n",
       "      <td>81.05</td>\n",
       "      <td>58.16</td>\n",
       "    </tr>\n",
       "    <tr>\n",
       "      <th>33628</th>\n",
       "      <td>75.59</td>\n",
       "      <td>66.84</td>\n",
       "    </tr>\n",
       "    <tr>\n",
       "      <th>39298</th>\n",
       "      <td>75.65</td>\n",
       "      <td>60.24</td>\n",
       "    </tr>\n",
       "  </tbody>\n",
       "</table>\n",
       "<p>398 rows × 2 columns</p>\n",
       "</div>"
      ],
      "text/plain": [
       "       English   Math\n",
       "ids                  \n",
       "43783    88.24  60.02\n",
       "20278    89.45  70.19\n",
       "20389    96.73  71.20\n",
       "22820    74.06  55.89\n",
       "24559    82.61  65.52\n",
       "...        ...    ...\n",
       "34021    87.72  65.31\n",
       "40697    91.01  70.25\n",
       "34272    81.05  58.16\n",
       "33628    75.59  66.84\n",
       "39298    75.65  60.24\n",
       "\n",
       "[398 rows x 2 columns]"
      ]
     },
     "execution_count": 120,
     "metadata": {},
     "output_type": "execute_result"
    }
   ],
   "source": [
    "dfscoresdrop"
   ]
  },
  {
   "cell_type": "code",
   "execution_count": 121,
   "id": "e62ec87f-3c82-46c1-afc8-42f631e9b74a",
   "metadata": {},
   "outputs": [
    {
     "data": {
      "text/html": [
       "<div>\n",
       "<style scoped>\n",
       "    .dataframe tbody tr th:only-of-type {\n",
       "        vertical-align: middle;\n",
       "    }\n",
       "\n",
       "    .dataframe tbody tr th {\n",
       "        vertical-align: top;\n",
       "    }\n",
       "\n",
       "    .dataframe thead th {\n",
       "        text-align: right;\n",
       "    }\n",
       "</style>\n",
       "<table border=\"1\" class=\"dataframe\">\n",
       "  <thead>\n",
       "    <tr style=\"text-align: right;\">\n",
       "      <th></th>\n",
       "      <th>count</th>\n",
       "      <th>mean</th>\n",
       "      <th>std</th>\n",
       "      <th>min</th>\n",
       "      <th>25%</th>\n",
       "      <th>50%</th>\n",
       "      <th>75%</th>\n",
       "      <th>max</th>\n",
       "    </tr>\n",
       "  </thead>\n",
       "  <tbody>\n",
       "    <tr>\n",
       "      <th>English</th>\n",
       "      <td>409.0</td>\n",
       "      <td>82.787555</td>\n",
       "      <td>6.839803</td>\n",
       "      <td>59.83</td>\n",
       "      <td>78.3300</td>\n",
       "      <td>83.150</td>\n",
       "      <td>87.1700</td>\n",
       "      <td>101.95</td>\n",
       "    </tr>\n",
       "    <tr>\n",
       "      <th>Math</th>\n",
       "      <td>422.0</td>\n",
       "      <td>65.468009</td>\n",
       "      <td>8.375930</td>\n",
       "      <td>35.32</td>\n",
       "      <td>60.2025</td>\n",
       "      <td>65.445</td>\n",
       "      <td>70.5675</td>\n",
       "      <td>93.78</td>\n",
       "    </tr>\n",
       "  </tbody>\n",
       "</table>\n",
       "</div>"
      ],
      "text/plain": [
       "         count       mean       std    min      25%     50%      75%     max\n",
       "English  409.0  82.787555  6.839803  59.83  78.3300  83.150  87.1700  101.95\n",
       "Math     422.0  65.468009  8.375930  35.32  60.2025  65.445  70.5675   93.78"
      ]
     },
     "execution_count": 121,
     "metadata": {},
     "output_type": "execute_result"
    }
   ],
   "source": [
    "dfscores[[\"English\", \"Math\"]].describe().T"
   ]
  },
  {
   "cell_type": "code",
   "execution_count": 122,
   "id": "44e772be-7301-496e-b003-6f4e85da773e",
   "metadata": {},
   "outputs": [
    {
     "data": {
      "text/plain": [
       "6.839803158182041"
      ]
     },
     "execution_count": 122,
     "metadata": {},
     "output_type": "execute_result"
    }
   ],
   "source": [
    "dfscores['English'].std()"
   ]
  },
  {
   "cell_type": "code",
   "execution_count": 123,
   "id": "a6c51e4c-ca3d-4462-ad86-0324003bbce3",
   "metadata": {},
   "outputs": [
    {
     "data": {
      "text/plain": [
       "46.78290724267702"
      ]
     },
     "execution_count": 123,
     "metadata": {},
     "output_type": "execute_result"
    }
   ],
   "source": [
    "dfscores['English'].var()"
   ]
  },
  {
   "cell_type": "code",
   "execution_count": 124,
   "id": "26a76b89-2d05-4c50-a435-f85f1d2d8ba1",
   "metadata": {},
   "outputs": [
    {
     "data": {
      "text/plain": [
       "8.375929562049427"
      ]
     },
     "execution_count": 124,
     "metadata": {},
     "output_type": "execute_result"
    }
   ],
   "source": [
    "dfscores['Math'].std()"
   ]
  },
  {
   "cell_type": "code",
   "execution_count": 125,
   "id": "16e95184-d1c3-42f5-ba89-4c670e0959ca",
   "metadata": {},
   "outputs": [
    {
     "data": {
      "text/plain": [
       "70.1561960284135"
      ]
     },
     "execution_count": 125,
     "metadata": {},
     "output_type": "execute_result"
    }
   ],
   "source": [
    "dfscores['Math'].var()"
   ]
  },
  {
   "cell_type": "code",
   "execution_count": 126,
   "id": "d26c2f4c-97c6-4c1b-8ecc-ff13e41d258d",
   "metadata": {},
   "outputs": [
    {
     "data": {
      "text/plain": [
       "82.78755501222494"
      ]
     },
     "execution_count": 126,
     "metadata": {},
     "output_type": "execute_result"
    }
   ],
   "source": [
    "Englishmean =dfscores['English'].mean()\n",
    "Englishmean"
   ]
  },
  {
   "cell_type": "code",
   "execution_count": 127,
   "id": "6f274e2f-d082-48a0-913e-defcef76e31e",
   "metadata": {},
   "outputs": [
    {
     "data": {
      "text/plain": [
       "65.46800947867298"
      ]
     },
     "execution_count": 127,
     "metadata": {},
     "output_type": "execute_result"
    }
   ],
   "source": [
    "Mathmean = dfscores['Math'].mean()\n",
    "Mathmean"
   ]
  },
  {
   "cell_type": "code",
   "execution_count": 128,
   "id": "42aa5486-fdd9-4c7e-b2be-b19bdf1febf2",
   "metadata": {},
   "outputs": [
    {
     "data": {
      "text/plain": [
       "17.31954553355196"
      ]
     },
     "execution_count": 128,
     "metadata": {},
     "output_type": "execute_result"
    }
   ],
   "source": [
    "Xmeandiff = Englishmean - Mathmean\n",
    "Xmeandiff"
   ]
  },
  {
   "cell_type": "code",
   "execution_count": null,
   "id": "ad057b80-5a5b-4f63-ac4d-064cbddd9dc6",
   "metadata": {},
   "outputs": [],
   "source": [
    "# Anlamlılık düzeyini %5 olarak alıyoruz"
   ]
  },
  {
   "cell_type": "code",
   "execution_count": 129,
   "id": "d8b6f1d6-ed3d-4f83-bdbd-9498ab66aa35",
   "metadata": {},
   "outputs": [
    {
     "data": {
      "text/plain": [
       "Ttest_relResult(statistic=36.31256898171986, pvalue=3.071098719220689e-128)"
      ]
     },
     "execution_count": 129,
     "metadata": {},
     "output_type": "execute_result"
    }
   ],
   "source": [
    "# stats.ttest_rel() fonksiyonunda  nan_policy='omit' parametresi kullanarak,\n",
    "# NaN varsa fonksiyona katmıyor.\n",
    "\n",
    "paired = stats.ttest_rel(dfscores[\"English\"], dfscores[\"Math\"], nan_policy='omit')\n",
    "paired"
   ]
  },
  {
   "cell_type": "code",
   "execution_count": null,
   "id": "43c49c49-0dba-4873-9ccc-47627310e93d",
   "metadata": {},
   "outputs": [],
   "source": [
    "α = 0.05 #  α/2= 0.025\n",
    "\n",
    "# p_value değeri  α/2'den küçükse H0 hipotezini reddederiz.\n"
   ]
  },
  {
   "cell_type": "code",
   "execution_count": 132,
   "id": "6ab4a801-a88c-444a-86bd-99e9fb7fca50",
   "metadata": {},
   "outputs": [
    {
     "name": "stdout",
     "output_type": "stream",
     "text": [
      "Reject the Null\n"
     ]
    }
   ],
   "source": [
    "α = 0.05 #  α/2= 0.025\n",
    "\n",
    "p_value=3.071098719220689e-128\n",
    "\n",
    "if p_value < α/2:\n",
    "    print(\"Reject the Null\")\n",
    "else:\n",
    "    print(\"Fail to reject\")"
   ]
  },
  {
   "cell_type": "code",
   "execution_count": null,
   "id": "d956151f-9acb-470c-8215-daf42d082620",
   "metadata": {},
   "outputs": [],
   "source": [
    "#İngilizce ve Matematik puanlarının birbirinden önemli ölçüde farklı olduğu sonucuna varmak için,\n",
    "# istatistiksel olarak yeterli kanıta sahip olabiliriz."
   ]
  }
 ],
 "metadata": {
  "kernelspec": {
   "display_name": "Python 3 (ipykernel)",
   "language": "python",
   "name": "python3"
  },
  "language_info": {
   "codemirror_mode": {
    "name": "ipython",
    "version": 3
   },
   "file_extension": ".py",
   "mimetype": "text/x-python",
   "name": "python",
   "nbconvert_exporter": "python",
   "pygments_lexer": "ipython3",
   "version": "3.8.12"
  }
 },
 "nbformat": 4,
 "nbformat_minor": 5
}
